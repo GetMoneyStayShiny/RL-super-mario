{
 "cells": [
  {
   "cell_type": "markdown",
   "metadata": {},
   "source": [
    "# Training"
   ]
  },
  {
   "cell_type": "code",
   "execution_count": 1,
   "metadata": {},
   "outputs": [],
   "source": [
    "import numpy as np\n",
    "from collections import deque\n",
    "import pickle\n",
    "import torch\n",
    "\n",
    "from ppo import PPOAgent\n",
    "from utils import collect_trajectories, random_sample\n",
    "from parallelEnv import parallelEnv\n",
    "\n",
    "def train(episode,env_name):\n",
    "    gamma = .99\n",
    "    gae_lambda = 0.95\n",
    "    use_gae = True\n",
    "    beta = .01\n",
    "    cliprange = 0.1\n",
    "    best_score = -np.inf\n",
    "    goal_score = 195.0\n",
    "\n",
    "    nenvs = 8\n",
    "    rollout_length = 200\n",
    "    minibatches = 10*8\n",
    "    # Calculate the batch_size\n",
    "    nbatch = nenvs * rollout_length\n",
    "    optimization_epochs = 4\n",
    "    \n",
    "    device=torch.device(\"cuda:0\" if torch.cuda.is_available() else \"cpu\")\n",
    "\n",
    "    envs = parallelEnv(env_name, nenvs, seed=1234)\n",
    "    agent = PPOAgent(state_size=envs.observation_space.shape[0],\n",
    "                     action_size=envs.action_space.n, \n",
    "                     seed=0,\n",
    "                     hidden_layers=[64,64],\n",
    "                     lr_policy=1e-4, \n",
    "                     use_reset=True,\n",
    "                     device=device)\n",
    "    print(\"------------------\")\n",
    "    print(agent.policy)\n",
    "    print(\"------------------\")\n",
    "\n",
    "    # keep track of progress\n",
    "    mean_rewards = []\n",
    "    scores_window = deque(maxlen=100)\n",
    "    loss_storage = []\n",
    "\n",
    "    for i_episode in range(episode+1):\n",
    "        log_probs_old, states, actions, rewards, values, dones, vals_last = collect_trajectories(envs, agent.policy, rollout_length)\n",
    "\n",
    "        returns = np.zeros_like(rewards)\n",
    "        advantages = np.zeros_like(rewards)\n",
    "        \n",
    "        if not use_gae:\n",
    "            for t in reversed(range(rollout_length)):\n",
    "                if t == rollout_length - 1:\n",
    "                    returns[t] = rewards[t] + gamma * (1-dones[t]) * vals_last\n",
    "                else:\n",
    "                    returns[t] = rewards[t] + gamma * (1-dones[t]) * returns[t+1]\n",
    "                advantages[t] = returns[t] - values[t]\n",
    "        else:\n",
    "            for t in reversed(range(rollout_length)):\n",
    "                if t == rollout_length - 1:\n",
    "                    returns[t] = rewards[t] + gamma * (1-dones[t]) * vals_last\n",
    "                    td_error = returns[t] - values[t]\n",
    "                else:\n",
    "                    returns[t] = rewards[t] + gamma * (1-dones[t]) * returns[t+1]\n",
    "                    td_error = rewards[t] + gamma * (1-dones[t]) * values[t+1] - values[t]\n",
    "                advantages[t] = advantages[t] * gae_lambda * gamma * (1-dones[t]) + td_error\n",
    "        \n",
    "        # convert to pytorch tensors and move to gpu if available\n",
    "        returns = torch.from_numpy(returns).float().to(device).view(-1,)\n",
    "        advantages = torch.from_numpy(advantages).float().to(device).view(-1,)\n",
    "        advantages = (advantages - advantages.mean()) / (advantages.std() + 1e-10)\n",
    "        \n",
    "        for _ in range(optimization_epochs):\n",
    "            sampler = random_sample(nbatch, minibatches)\n",
    "            for inds in sampler:\n",
    "                mb_log_probs_old = log_probs_old[inds]\n",
    "                mb_states = states[inds]\n",
    "                mb_actions = actions[inds]\n",
    "                mb_returns = returns[inds]\n",
    "                mb_advantages = advantages[inds]\n",
    "                loss_p, loss_v, loss_ent = agent.update(mb_log_probs_old, mb_states, mb_actions, mb_returns, mb_advantages, cliprange=cliprange, beta=beta)\n",
    "                loss_storage.append([loss_p, loss_v, loss_ent])\n",
    "                \n",
    "        total_rewards = np.sum(rewards, axis=0)\n",
    "        scores_window.append(np.mean(total_rewards)) # last 100 scores\n",
    "        mean_rewards.append(np.mean(total_rewards))  # get the average reward of the parallel environments\n",
    "        cliprange*=.999                              # the clipping parameter reduces as time goes on\n",
    "        beta*=.999                                   # the regulation term reduces\n",
    "    \n",
    "        if i_episode % 100 == 0:\n",
    "            print('\\rEpisode {}\\tAverage Score: {:.2f}'.format(i_episode, np.mean(scores_window)))\n",
    "            print(total_rewards)\n",
    "        if np.mean(scores_window)>=goal_score and np.mean(scores_window)>=best_score:            \n",
    "            torch.save(agent.policy.state_dict(), \"policy_cartpole.pth\")\n",
    "            best_score = np.mean(scores_window)\n",
    "    \n",
    "    return mean_rewards, loss_storage"
   ]
  },
  {
   "cell_type": "code",
   "execution_count": null,
   "metadata": {},
   "outputs": [
    {
     "name": "stdout",
     "output_type": "stream",
     "text": [
      "------------------\n",
      "ProxyPolicyNet(\n",
      "  (FC_network): FullyConnectedNet(\n",
      "    (lin1): Linear(in_features=4, out_features=64, bias=True)\n",
      "    (relu): ReLU()\n",
      "    (lin2): Linear(in_features=64, out_features=64, bias=True)\n",
      "  )\n",
      "  (softmax): Softmax(dim=1)\n",
      "  (actor): Linear(in_features=64, out_features=2, bias=True)\n",
      "  (critic): Linear(in_features=64, out_features=1, bias=True)\n",
      ")\n",
      "------------------\n",
      "Episode 0\tAverage Score: 190.12\n",
      "[190. 188. 190. 192. 191. 188. 190. 192.]\n",
      "Episode 100\tAverage Score: 196.32\n",
      "[200. 200. 200. 200. 200. 200. 200. 199.]\n"
     ]
    }
   ],
   "source": [
    "mean_rewards, loss = train(400,'CartPole-v0')"
   ]
  },
  {
   "cell_type": "code",
   "execution_count": 3,
   "metadata": {},
   "outputs": [],
   "source": [
    "import matplotlib.pyplot as plt\n",
    "\n",
    "plt.rcParams['xtick.direction'] = 'in'\n",
    "plt.rcParams['ytick.direction'] = 'in'\n",
    "plt.rcParams['font.size'] = 10"
   ]
  },
  {
   "cell_type": "code",
   "execution_count": 4,
   "metadata": {},
   "outputs": [
    {
     "data": {
      "image/png": "[encoded data removed]",
      "text/plain": [
       "<Figure size 432x288 with 1 Axes>"
      ]
     },
     "metadata": {
      "needs_background": "light"
     },
     "output_type": "display_data"
    }
   ],
   "source": [
    "plt.plot(mean_rewards)\n",
    "plt.ylabel('Average score')\n",
    "plt.xlabel('episode')\n",
    "plt.show()"
   ]
  },
  {
   "cell_type": "markdown",
   "metadata": {},
   "source": [
    "---"
   ]
  },
  {
   "cell_type": "markdown",
   "metadata": {},
   "source": [
    "# animation"
   ]
  },
  {
   "cell_type": "code",
   "execution_count": 5,
   "metadata": {},
   "outputs": [],
   "source": [
    "from ppo import PPOAgent\n",
    "import torch\n",
    "import gym\n",
    "\n",
    "env= gym.make('CartPole-v0')\n",
    "device = torch.device(\"cuda:0\" if torch.cuda.is_available() else \"cpu\")\n",
    "agent = PPOAgent(state_size=env.observation_space.shape[0],\n",
    "                 action_size=env.action_space.n, \n",
    "                 seed=0,\n",
    "                 hidden_layers=[64,64],\n",
    "                 lr_policy=1e-4, \n",
    "                 use_reset=True,\n",
    "                 device=device)"
   ]
  },
  {
   "cell_type": "code",
   "execution_count": 6,
   "metadata": {},
   "outputs": [
    {
     "data": {
      "text/plain": [
       "'0.14.0'"
      ]
     },
     "execution_count": 6,
     "metadata": {},
     "output_type": "execute_result"
    }
   ],
   "source": [
    "gym.__version__"
   ]
  },
  {
   "cell_type": "code",
   "execution_count": 7,
   "metadata": {},
   "outputs": [
    {
     "data": {
      "text/plain": [
       "<All keys matched successfully>"
      ]
     },
     "execution_count": 7,
     "metadata": {},
     "output_type": "execute_result"
    }
   ],
   "source": [
    "agent.policy.load_state_dict(torch.load('policy_cartpole.pth', map_location=lambda storage, loc: storage))"
   ]
  },
  {
   "cell_type": "code",
   "execution_count": 8,
   "metadata": {},
   "outputs": [],
   "source": [
    "from matplotlib import animation, rc\n",
    "rc('animation', html='jshtml')"
   ]
  },
  {
   "cell_type": "code",
   "execution_count": 9,
   "metadata": {},
   "outputs": [
    {
     "data": {
      "text/plain": [
       "'3.1.1'"
      ]
     },
     "execution_count": 9,
     "metadata": {},
     "output_type": "execute_result"
    }
   ],
   "source": [
    "import matplotlib\n",
    "matplotlib.__version__"
   ]
  },
  {
   "cell_type": "code",
   "execution_count": 10,
   "metadata": {},
   "outputs": [],
   "source": [
    "import random as rand\n",
    "\n",
    "# function to animate a list of frames\n",
    "def animate_frames(frames):\n",
    "    plt.axis('off')\n",
    "\n",
    "    # color option for plotting\n",
    "    # use Greys for greyscale\n",
    "    cmap = None if len(frames[0].shape)==3 else 'Greys'\n",
    "    patch = plt.imshow(frames[0], cmap=cmap)  \n",
    "\n",
    "    fanim = animation.FuncAnimation(plt.gcf(), \\\n",
    "        lambda x: patch.set_data(frames[x]), frames = len(frames), interval=50)\n",
    "    \n",
    "    return fanim"
   ]
  },
  {
   "cell_type": "code",
   "execution_count": 11,
   "metadata": {},
   "outputs": [],
   "source": [
    "def play(env, policy, time):\n",
    "    frame1 = env.reset()\n",
    "    \n",
    "    anim_frames = []\n",
    "    \n",
    "    for i in range(time):\n",
    "        \n",
    "        anim_frames.append(env.render(mode='rgb_array'))\n",
    "        frame_input = torch.from_numpy(frame1).unsqueeze(0).float().to(device)\n",
    "        action = policy.act(frame_input)['a'].cpu().numpy()\n",
    "        frame1, _, is_done, _ = env.step(int(action))\n",
    "\n",
    "        if is_done:\n",
    "            print(\"reward :\", i+1)\n",
    "            break\n",
    "    \n",
    "    env.close()\n",
    "    \n",
    "    return animate_frames(anim_frames)"
   ]
  },
  {
   "cell_type": "code",
   "execution_count": null,
   "metadata": {},
   "outputs": [],
   "source": [
    "play(env, agent.policy, 200)"
   ]
  },
  {
   "cell_type": "code",
   "execution_count": null,
   "metadata": {},
   "outputs": [],
   "source": []
  }
 ],
 "metadata": {
  "kernelspec": {
   "display_name": "Python 3",
   "language": "python",
   "name": "python3"
  },
  "language_info": {
   "codemirror_mode": {
    "name": "ipython",
    "version": 3
   },
   "file_extension": ".py",
   "mimetype": "text/x-python",
   "name": "python",
   "nbconvert_exporter": "python",
   "pygments_lexer": "ipython3",
   "version": "3.6.8"
  }
 },
 "nbformat": 4,
 "nbformat_minor": 2
}
